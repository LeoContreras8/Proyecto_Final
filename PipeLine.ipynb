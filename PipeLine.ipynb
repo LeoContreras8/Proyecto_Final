{
 "cells": [
  {
   "attachments": {},
   "cell_type": "markdown",
   "metadata": {},
   "source": [
    "##### Maestría Inteligencia de Negocios y Análisis de Datos\n",
    "##### Curso: Statistical Learning I\n",
    "##### Alumno: 22008375- Leonel Eduardo Contreras\n",
    "##### Alumno: 22008067- Luis Pedro Perez\n",
    "##### Sección L\n",
    "\n",
    "## Proyecto Final-PipeLine"
   ]
  },
  {
   "attachments": {},
   "cell_type": "markdown",
   "metadata": {},
   "source": [
    "#### 1. Importar librerias"
   ]
  }
 ],
 "metadata": {
  "language_info": {
   "name": "python"
  },
  "orig_nbformat": 4
 },
 "nbformat": 4,
 "nbformat_minor": 2
}
