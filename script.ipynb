{
 "cells": [
  {
   "cell_type": "code",
   "execution_count": 22,
   "metadata": {},
   "outputs": [],
   "source": [
    "import datetime\n",
    "import time\n",
    "\n",
    "import joblib\n",
    "import pandas as pd\n",
    "import numpy as np\n",
    "\n",
    "from sklearn.model_selection import train_test_split\n",
    "from sklearn.model_selection import cross_val_score\n",
    "from sklearn.metrics import accuracy_score,roc_auc_score, confusion_matrix,classification_report\n",
    "from sklearn.naive_bayes import GaussianNB\n",
    "from sklearn.linear_model import LogisticRegression\n",
    "from sklearn.model_selection import GridSearchCV, KFold\n",
    "from sklearn.ensemble import RandomForestClassifier\n",
    "from sklearn.discriminant_analysis import LinearDiscriminantAnalysis\n",
    "from sklearn.svm import SVC\n",
    "from sklearn.ensemble import GradientBoostingClassifier\n",
    "\n",
    "import csv"
   ]
  },
  {
   "attachments": {},
   "cell_type": "markdown",
   "metadata": {},
   "source": [
    "##### Cargar archivo y pipeline"
   ]
  },
  {
   "cell_type": "code",
   "execution_count": 15,
   "metadata": {},
   "outputs": [],
   "source": [
    "data=pd.read_csv('airline_satisfaction.csv')\n",
    "pipeline=joblib.load('pipeline_airline.pkl')"
   ]
  },
  {
   "cell_type": "code",
   "execution_count": 16,
   "metadata": {},
   "outputs": [],
   "source": [
    "# Codificacion variable target\n",
    "ohe_target=pd.get_dummies(data['satisfaction'],drop_first=True)\n",
    "data['satisfaction']=ohe_target\n"
   ]
  },
  {
   "attachments": {},
   "cell_type": "markdown",
   "metadata": {},
   "source": [
    "##### Crear Funcion Train Model"
   ]
  },
  {
   "cell_type": "code",
   "execution_count": 17,
   "metadata": {},
   "outputs": [],
   "source": [
    "def train_model():\n",
    "\n",
    "    # Obtener el tiempo de inicio\n",
    "    inicio = time.time()\n",
    "\n",
    "    X_train, X_test, y_train, y_test = train_test_split(\n",
    "    data.drop(['id', 'satisfaction'], axis=1),# Varaibles X, sin el Id y sin la varaible Y\n",
    "    data['satisfaction'], # Variable Y\n",
    "    test_size=0.3, # Tamaño de la muestra 70% Train. 30% Test\n",
    "    random_state=2023) # Aleatorio seed 2023\n",
    "\n",
    "    # Fit del Pipeline a las variables X\n",
    "    pipeline.fit(X_train, X_test)\n",
    "\n",
    "    # Transformar las variables X segun la ingenieria de caracteristicas\n",
    "    X_train_trans=pipeline.transform(X_train)\n",
    "    X_test_trans=pipeline.transform(X_test)\n",
    "\n",
    "    ## Instanciamos objeto para modelo\n",
    "    random_forest= RandomForestClassifier()\n",
    "    random_forest\n",
    "\n",
    "    # Entrenamiento de modelo\n",
    "    random_forest.fit(X_train_trans,y_train)\n",
    "\n",
    "    # Prediccion del Modelo\n",
    "    y_preds_forest=random_forest.predict(X_test_trans)\n",
    "\n",
    "    ## Diccionario de hiper parametros\n",
    "    hyperparam_grid={'n_estimators':[200],\n",
    "                 'criterion':['gini','entropy','log_loss']\n",
    "                 }\n",
    "\n",
    "\n",
    "    grid_search=GridSearchCV(estimator=random_forest,param_grid=hyperparam_grid,scoring=['roc_auc','accuracy'],refit='roc_auc',n_jobs=-1,\n",
    "                         cv=KFold(n_splits=10,shuffle=True,random_state=2023)) \n",
    "\n",
    "    ##Entrenar el modelo\n",
    "    grid_search.fit(X_train_trans,y_train)\n",
    "\n",
    "    accuracies=grid_search.cv_results_['mean_test_accuracy']\n",
    "    roc_aucs=grid_search.cv_results_['mean_test_roc_auc']\n",
    "\n",
    "    mean_acc =  np.mean([x for x in accuracies if not np.isnan(x)])\n",
    "    mean_roc_aucs = np.mean([x for x in roc_aucs if not np.isnan(x)])\n",
    "\n",
    "    # Obtener el tiempo de finalización\n",
    "    fin = time.time()\n",
    "\n",
    "    # Calcular el tiempo transcurrido\n",
    "    tiempo_transcurrido = fin - inicio\n",
    "\n",
    "    # Obtener la fecha y hora actual\n",
    "    fecha_hora_actual = datetime.datetime.now()\n",
    "\n",
    "    # Formatear la fecha y hora\n",
    "    fecha_hora_formateada = fecha_hora_actual.strftime(\"%Y-%m-%d %H:%M:%S\")\n",
    "\n",
    "    # Crear el contenido a escribir en el archivo\n",
    "    contenido = f\"Fecha y hora de ejecución: {fecha_hora_formateada},El tiempo de ejecución fue de {tiempo_transcurrido} segundos. Mejores HiperParametros del Random Forest:{grid_search.best_params_},Mejor Metrica:{grid_search.best_score_}\"\n",
    "\n",
    "    # Escribir el contenido en un archivo de texto\n",
    "    with open(\"modelo.txt\", \"w\") as archivo:\n",
    "        archivo.write(contenido)\n"
   ]
  },
  {
   "attachments": {},
   "cell_type": "markdown",
   "metadata": {},
   "source": [
    "##### Crear Funcion Prediccion Datos"
   ]
  },
  {
   "cell_type": "code",
   "execution_count": 23,
   "metadata": {},
   "outputs": [],
   "source": [
    "def predict():\n",
    "\n",
    "    X_train, X_test, y_train, y_test = train_test_split(\n",
    "    data.drop(['id', 'satisfaction'], axis=1),# Varaibles X, sin el Id y sin la varaible Y\n",
    "    data['satisfaction'], # Variable Y\n",
    "    test_size=0.3, # Tamaño de la muestra 70% Train. 30% Test\n",
    "    random_state=2023) # Aleatorio seed 2023\n",
    "\n",
    "    # Fit del Pipeline a las variables X\n",
    "    pipeline.fit(X_train, X_test)\n",
    "\n",
    "    # Transformar las variables X segun la ingenieria de caracteristicas\n",
    "    X_train_trans=pipeline.transform(X_train)\n",
    "    X_test_trans=pipeline.transform(X_test)\n",
    "\n",
    "    ## Instanciamos objeto para modelo\n",
    "    random_forest= RandomForestClassifier()\n",
    "    random_forest\n",
    "\n",
    "    # Entrenamiento de modelo\n",
    "    random_forest.fit(X_train_trans,y_train)\n",
    "\n",
    "    # Prediccion del Modelo\n",
    "    y_preds_forest=random_forest.predict(X_test_trans)\n",
    "\n",
    "    # Convertir el DataFrame a un archivo CSV\n",
    "    nombre_archivo = 'predicciones.csv'\n",
    "    \n",
    "    with open(nombre_archivo, 'w', newline='') as archivo_csv:\n",
    "        escritor = csv.writer(archivo_csv)\n",
    "        escritor.writerow(y_preds_forest)\n",
    "\n",
    "    "
   ]
  },
  {
   "cell_type": "code",
   "execution_count": 24,
   "metadata": {},
   "outputs": [
    {
     "name": "stdout",
     "output_type": "stream",
     "text": [
      "¿Qué desea hacer?\n",
      "1. Entrenar Modelo\n",
      "2. Obtener Predcciones del Modelo\n",
      "3. Salir de la Transaccion\n"
     ]
    }
   ],
   "source": [
    "print(\"¿Qué desea hacer?\")\n",
    "print(\"1. Entrenar Modelo\")\n",
    "print(\"2. Obtener Predcciones del Modelo\")\n",
    "print(\"3. Salir de la Transaccion\")"
   ]
  },
  {
   "cell_type": "code",
   "execution_count": 25,
   "metadata": {},
   "outputs": [],
   "source": [
    "\n",
    "## Definicion de variables iniciales\n",
    "transaccion=0\n",
    "fin=3\n",
    "\n",
    "## Ciclo que continua mientras no se ingrese la opcion 3-Terminar Transaccion\n",
    "while (True):\n",
    "\n",
    "    transaccion=int(input(\"Ingrese el número de la transacción:\"))\n",
    "    \n",
    "\n",
    "    ## Valida si se ingresa un numero entre 1 y 3, sino devuleve mensaje de transaccion invalida\n",
    "    if transaccion>=1 and transaccion<=3:\n",
    "        ## Mientras no se ingrese 3, se corre el programa\n",
    "        if(fin!=transaccion):\n",
    "                                              \n",
    "                ## Si se ingresa 1, corre funcion entrenar modelo\n",
    "                if transaccion==1:\n",
    "                    train_model()\n",
    "                     \n",
    "                ## Si se ingresa 2, corre funcion prediccion modelo          \n",
    "                else: \n",
    "                     predict()\n",
    "    \n",
    "        else:\n",
    "            break\n",
    "    else:\n",
    "         print(\"Transaccion invalida\")\n",
    "\n",
    "\n",
    "\n",
    "\n"
   ]
  }
 ],
 "metadata": {
  "kernelspec": {
   "display_name": "PythonClass",
   "language": "python",
   "name": "python3"
  },
  "language_info": {
   "codemirror_mode": {
    "name": "ipython",
    "version": 3
   },
   "file_extension": ".py",
   "mimetype": "text/x-python",
   "name": "python",
   "nbconvert_exporter": "python",
   "pygments_lexer": "ipython3",
   "version": "3.8.16"
  },
  "orig_nbformat": 4
 },
 "nbformat": 4,
 "nbformat_minor": 2
}
